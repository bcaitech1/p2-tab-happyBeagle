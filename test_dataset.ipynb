{
 "metadata": {
  "language_info": {
   "codemirror_mode": {
    "name": "ipython",
    "version": 3
   },
   "file_extension": ".py",
   "mimetype": "text/x-python",
   "name": "python",
   "nbconvert_exporter": "python",
   "pygments_lexer": "ipython3",
   "version": "3.7.7"
  },
  "orig_nbformat": 2,
  "kernelspec": {
   "name": "python377jvsc74a57bd098b0a9b7b4eaaa670588a142fd0a9b87eaafe866f1db4228be72b4211d12040f",
   "display_name": "Python 3.7.7 64-bit ('base': conda)"
  }
 },
 "nbformat": 4,
 "nbformat_minor": 2,
 "cells": [
  {
   "cell_type": "code",
   "execution_count": 1,
   "metadata": {},
   "outputs": [],
   "source": [
    "import pandas as pd \n",
    "import numpy as np\n",
    "import os\n",
    "import sys\n",
    "from collections import defaultdict\n",
    "\n",
    "import warnings\n",
    "\n",
    "warnings.filterwarnings(\"ignore\")"
   ]
  },
  {
   "cell_type": "code",
   "execution_count": 2,
   "metadata": {},
   "outputs": [],
   "source": [
    "train_data_path = \"/opt/ml/code/input/train.csv\"\n",
    "test_data_path = \"/opt/ml/code/input/sample_submission.csv\"\n",
    "\n",
    "raw_train_data = pd.read_csv(train_data_path, parse_dates=['order_date'])\n",
    "test_data = pd.read_csv(test_data_path)"
   ]
  },
  {
   "cell_type": "code",
   "execution_count": 3,
   "metadata": {},
   "outputs": [],
   "source": [
    "raw_train_data['year_month'] = raw_train_data['order_date'].dt.strftime('%Y-%m')"
   ]
  },
  {
   "cell_type": "code",
   "execution_count": 4,
   "metadata": {},
   "outputs": [],
   "source": [
    "customer_id_list = pd.unique(raw_train_data.customer_id)\n",
    "month_list = pd.unique(raw_train_data.year_month)"
   ]
  },
  {
   "cell_type": "code",
   "execution_count": 5,
   "metadata": {},
   "outputs": [],
   "source": [
    "r_data = raw_train_data.groupby([\"customer_id\", \"year_month\"])[\"total\"].sum()"
   ]
  },
  {
   "cell_type": "code",
   "execution_count": 6,
   "metadata": {},
   "outputs": [
    {
     "output_type": "execute_result",
     "data": {
      "text/plain": [
       "   customer_id year_month      total\n",
       "0        12346    2009-12   187.2750\n",
       "1        12346    2010-01   -22.2750\n",
       "2        12346    2010-03    44.6325\n",
       "3        12346    2010-06  -285.9285\n",
       "4        12346    2010-10    -9.0750\n",
       "5        12346    2011-01     0.0000\n",
       "6        12347    2010-10  1009.0245\n",
       "7        12347    2010-12  1174.4535\n",
       "8        12347    2011-01   784.3935\n",
       "9        12347    2011-04  1049.8125"
      ],
      "text/html": "<div>\n<style scoped>\n    .dataframe tbody tr th:only-of-type {\n        vertical-align: middle;\n    }\n\n    .dataframe tbody tr th {\n        vertical-align: top;\n    }\n\n    .dataframe thead th {\n        text-align: right;\n    }\n</style>\n<table border=\"1\" class=\"dataframe\">\n  <thead>\n    <tr style=\"text-align: right;\">\n      <th></th>\n      <th>customer_id</th>\n      <th>year_month</th>\n      <th>total</th>\n    </tr>\n  </thead>\n  <tbody>\n    <tr>\n      <th>0</th>\n      <td>12346</td>\n      <td>2009-12</td>\n      <td>187.2750</td>\n    </tr>\n    <tr>\n      <th>1</th>\n      <td>12346</td>\n      <td>2010-01</td>\n      <td>-22.2750</td>\n    </tr>\n    <tr>\n      <th>2</th>\n      <td>12346</td>\n      <td>2010-03</td>\n      <td>44.6325</td>\n    </tr>\n    <tr>\n      <th>3</th>\n      <td>12346</td>\n      <td>2010-06</td>\n      <td>-285.9285</td>\n    </tr>\n    <tr>\n      <th>4</th>\n      <td>12346</td>\n      <td>2010-10</td>\n      <td>-9.0750</td>\n    </tr>\n    <tr>\n      <th>5</th>\n      <td>12346</td>\n      <td>2011-01</td>\n      <td>0.0000</td>\n    </tr>\n    <tr>\n      <th>6</th>\n      <td>12347</td>\n      <td>2010-10</td>\n      <td>1009.0245</td>\n    </tr>\n    <tr>\n      <th>7</th>\n      <td>12347</td>\n      <td>2010-12</td>\n      <td>1174.4535</td>\n    </tr>\n    <tr>\n      <th>8</th>\n      <td>12347</td>\n      <td>2011-01</td>\n      <td>784.3935</td>\n    </tr>\n    <tr>\n      <th>9</th>\n      <td>12347</td>\n      <td>2011-04</td>\n      <td>1049.8125</td>\n    </tr>\n  </tbody>\n</table>\n</div>"
     },
     "metadata": {},
     "execution_count": 6
    }
   ],
   "source": [
    "raw_data_ = pd.DataFrame({'total' : r_data}).reset_index()\n",
    "raw_data_.head(10)"
   ]
  },
  {
   "cell_type": "code",
   "execution_count": 7,
   "metadata": {},
   "outputs": [
    {
     "output_type": "stream",
     "name": "stdout",
     "text": [
      "2009-12\n2010-01\n2010-03\n2010-06\n2010-10\n2011-01\n"
     ]
    }
   ],
   "source": [
    "insert_list = []\n",
    "not_bought_list = []\n",
    "for customer_id in customer_id_list:\n",
    "    for month in month_list:\n",
    "        if raw_data_[raw_data_.customer_id == customer_id][\"year_month\"].isin([month]).any():\n",
    "            if customer_id == 12346:\n",
    "                print(month)\n",
    "            pass\n",
    "        else:\n",
    "            temp = {}\n",
    "            temp[\"customer_id\"] = customer_id\n",
    "            temp[\"year_month\"] = month\n",
    "            temp[\"total\"] = (0.0)\n",
    "            insert_list.append(temp)\n",
    "            not_bought_list.append((customer_id, month))\n"
   ]
  },
  {
   "cell_type": "code",
   "execution_count": 8,
   "metadata": {},
   "outputs": [],
   "source": [
    "raw_data_ = raw_data_.append(insert_list, ignore_index=True)"
   ]
  },
  {
   "cell_type": "code",
   "execution_count": 9,
   "metadata": {},
   "outputs": [
    {
     "output_type": "execute_result",
     "data": {
      "text/plain": [
       "        customer_id year_month  total\n",
       "141926        17911    2011-01    0.0\n",
       "141927        17911    2011-02    0.0\n",
       "141928        17911    2011-03    0.0\n",
       "141929        17911    2011-04    0.0\n",
       "141930        17911    2011-05    0.0\n",
       "141931        17911    2011-06    0.0\n",
       "141932        17911    2011-07    0.0\n",
       "141933        17911    2011-08    0.0\n",
       "141934        17911    2011-09    0.0\n",
       "141935        17911    2011-10    0.0"
      ],
      "text/html": "<div>\n<style scoped>\n    .dataframe tbody tr th:only-of-type {\n        vertical-align: middle;\n    }\n\n    .dataframe tbody tr th {\n        vertical-align: top;\n    }\n\n    .dataframe thead th {\n        text-align: right;\n    }\n</style>\n<table border=\"1\" class=\"dataframe\">\n  <thead>\n    <tr style=\"text-align: right;\">\n      <th></th>\n      <th>customer_id</th>\n      <th>year_month</th>\n      <th>total</th>\n    </tr>\n  </thead>\n  <tbody>\n    <tr>\n      <th>141926</th>\n      <td>17911</td>\n      <td>2011-01</td>\n      <td>0.0</td>\n    </tr>\n    <tr>\n      <th>141927</th>\n      <td>17911</td>\n      <td>2011-02</td>\n      <td>0.0</td>\n    </tr>\n    <tr>\n      <th>141928</th>\n      <td>17911</td>\n      <td>2011-03</td>\n      <td>0.0</td>\n    </tr>\n    <tr>\n      <th>141929</th>\n      <td>17911</td>\n      <td>2011-04</td>\n      <td>0.0</td>\n    </tr>\n    <tr>\n      <th>141930</th>\n      <td>17911</td>\n      <td>2011-05</td>\n      <td>0.0</td>\n    </tr>\n    <tr>\n      <th>141931</th>\n      <td>17911</td>\n      <td>2011-06</td>\n      <td>0.0</td>\n    </tr>\n    <tr>\n      <th>141932</th>\n      <td>17911</td>\n      <td>2011-07</td>\n      <td>0.0</td>\n    </tr>\n    <tr>\n      <th>141933</th>\n      <td>17911</td>\n      <td>2011-08</td>\n      <td>0.0</td>\n    </tr>\n    <tr>\n      <th>141934</th>\n      <td>17911</td>\n      <td>2011-09</td>\n      <td>0.0</td>\n    </tr>\n    <tr>\n      <th>141935</th>\n      <td>17911</td>\n      <td>2011-10</td>\n      <td>0.0</td>\n    </tr>\n  </tbody>\n</table>\n</div>"
     },
     "metadata": {},
     "execution_count": 9
    }
   ],
   "source": [
    "raw_data_.tail(10)"
   ]
  },
  {
   "cell_type": "code",
   "execution_count": 10,
   "metadata": {},
   "outputs": [],
   "source": [
    "month_sorted_list = ['12']\n",
    "for month in range(1, 12):\n",
    "    month_sorted_list.append(str(month).zfill(2))"
   ]
  },
  {
   "cell_type": "code",
   "execution_count": 11,
   "metadata": {},
   "outputs": [
    {
     "output_type": "execute_result",
     "data": {
      "text/plain": [
       "       customer_id year_month     total\n",
       "0            12346    2009-12  187.2750\n",
       "1            12346    2010-01  -22.2750\n",
       "2            12346    2010-03   44.6325\n",
       "3            12346    2010-06 -285.9285\n",
       "4            12346    2010-10   -9.0750\n",
       "5            12346    2011-01    0.0000\n",
       "38664        12346    2010-02    0.0000\n",
       "38665        12346    2010-04    0.0000\n",
       "38666        12346    2010-05    0.0000\n",
       "38667        12346    2010-07    0.0000\n",
       "38668        12346    2010-08    0.0000\n",
       "38669        12346    2010-09    0.0000\n",
       "38670        12346    2010-11    0.0000\n",
       "38671        12346    2010-12    0.0000\n",
       "38672        12346    2011-02    0.0000\n",
       "38673        12346    2011-03    0.0000\n",
       "38674        12346    2011-04    0.0000\n",
       "38675        12346    2011-05    0.0000\n",
       "38676        12346    2011-06    0.0000\n",
       "38677        12346    2011-07    0.0000\n",
       "38678        12346    2011-08    0.0000\n",
       "38679        12346    2011-09    0.0000\n",
       "38680        12346    2011-10    0.0000\n",
       "38681        12346    2011-11    0.0000"
      ],
      "text/html": "<div>\n<style scoped>\n    .dataframe tbody tr th:only-of-type {\n        vertical-align: middle;\n    }\n\n    .dataframe tbody tr th {\n        vertical-align: top;\n    }\n\n    .dataframe thead th {\n        text-align: right;\n    }\n</style>\n<table border=\"1\" class=\"dataframe\">\n  <thead>\n    <tr style=\"text-align: right;\">\n      <th></th>\n      <th>customer_id</th>\n      <th>year_month</th>\n      <th>total</th>\n    </tr>\n  </thead>\n  <tbody>\n    <tr>\n      <th>0</th>\n      <td>12346</td>\n      <td>2009-12</td>\n      <td>187.2750</td>\n    </tr>\n    <tr>\n      <th>1</th>\n      <td>12346</td>\n      <td>2010-01</td>\n      <td>-22.2750</td>\n    </tr>\n    <tr>\n      <th>2</th>\n      <td>12346</td>\n      <td>2010-03</td>\n      <td>44.6325</td>\n    </tr>\n    <tr>\n      <th>3</th>\n      <td>12346</td>\n      <td>2010-06</td>\n      <td>-285.9285</td>\n    </tr>\n    <tr>\n      <th>4</th>\n      <td>12346</td>\n      <td>2010-10</td>\n      <td>-9.0750</td>\n    </tr>\n    <tr>\n      <th>5</th>\n      <td>12346</td>\n      <td>2011-01</td>\n      <td>0.0000</td>\n    </tr>\n    <tr>\n      <th>38664</th>\n      <td>12346</td>\n      <td>2010-02</td>\n      <td>0.0000</td>\n    </tr>\n    <tr>\n      <th>38665</th>\n      <td>12346</td>\n      <td>2010-04</td>\n      <td>0.0000</td>\n    </tr>\n    <tr>\n      <th>38666</th>\n      <td>12346</td>\n      <td>2010-05</td>\n      <td>0.0000</td>\n    </tr>\n    <tr>\n      <th>38667</th>\n      <td>12346</td>\n      <td>2010-07</td>\n      <td>0.0000</td>\n    </tr>\n    <tr>\n      <th>38668</th>\n      <td>12346</td>\n      <td>2010-08</td>\n      <td>0.0000</td>\n    </tr>\n    <tr>\n      <th>38669</th>\n      <td>12346</td>\n      <td>2010-09</td>\n      <td>0.0000</td>\n    </tr>\n    <tr>\n      <th>38670</th>\n      <td>12346</td>\n      <td>2010-11</td>\n      <td>0.0000</td>\n    </tr>\n    <tr>\n      <th>38671</th>\n      <td>12346</td>\n      <td>2010-12</td>\n      <td>0.0000</td>\n    </tr>\n    <tr>\n      <th>38672</th>\n      <td>12346</td>\n      <td>2011-02</td>\n      <td>0.0000</td>\n    </tr>\n    <tr>\n      <th>38673</th>\n      <td>12346</td>\n      <td>2011-03</td>\n      <td>0.0000</td>\n    </tr>\n    <tr>\n      <th>38674</th>\n      <td>12346</td>\n      <td>2011-04</td>\n      <td>0.0000</td>\n    </tr>\n    <tr>\n      <th>38675</th>\n      <td>12346</td>\n      <td>2011-05</td>\n      <td>0.0000</td>\n    </tr>\n    <tr>\n      <th>38676</th>\n      <td>12346</td>\n      <td>2011-06</td>\n      <td>0.0000</td>\n    </tr>\n    <tr>\n      <th>38677</th>\n      <td>12346</td>\n      <td>2011-07</td>\n      <td>0.0000</td>\n    </tr>\n    <tr>\n      <th>38678</th>\n      <td>12346</td>\n      <td>2011-08</td>\n      <td>0.0000</td>\n    </tr>\n    <tr>\n      <th>38679</th>\n      <td>12346</td>\n      <td>2011-09</td>\n      <td>0.0000</td>\n    </tr>\n    <tr>\n      <th>38680</th>\n      <td>12346</td>\n      <td>2011-10</td>\n      <td>0.0000</td>\n    </tr>\n    <tr>\n      <th>38681</th>\n      <td>12346</td>\n      <td>2011-11</td>\n      <td>0.0000</td>\n    </tr>\n  </tbody>\n</table>\n</div>"
     },
     "metadata": {},
     "execution_count": 11
    }
   ],
   "source": [
    "raw_data_[(raw_data_.customer_id == 12346)]"
   ]
  },
  {
   "cell_type": "code",
   "execution_count": 14,
   "metadata": {},
   "outputs": [],
   "source": [
    "from tqdm import tqdm"
   ]
  },
  {
   "cell_type": "code",
   "execution_count": 15,
   "metadata": {},
   "outputs": [
    {
     "output_type": "stream",
     "name": "stderr",
     "text": [
      "100%|██████████| 5914/5914 [20:24<00:00,  4.83it/s]\n"
     ]
    }
   ],
   "source": [
    "train_year = 2010\n",
    "\n",
    "train_raw_data = {\"customer_id\": [], \n",
    "                  \"label\": [],\n",
    "                  \"last_bought\": [], \n",
    "                  \"first_bought\": [],\n",
    "                  \"thres_3\": [],\n",
    "                  \"thres_6\": [],\n",
    "                  \"thres_12\": []}\n",
    "\n",
    "for month in month_sorted_list:      \n",
    "    train_raw_data[month] = []\n",
    "\n",
    "for customer_id in tqdm(customer_id_list):\n",
    "    bought_count = [0] * 3\n",
    "    bought_more_than_thres = [0] * 3\n",
    "    first_bought, last_bought = None, None\n",
    "    for idx, month in enumerate(month_sorted_list):\n",
    "        if month == '12':\n",
    "            label = str(train_year - 1)\n",
    "        else:\n",
    "            label = str(train_year)\n",
    "        label += \"-\" + month\n",
    "        \n",
    "        total = float(raw_data_[(raw_data_.customer_id == customer_id) & (raw_data_.year_month == label)][\"total\"])\n",
    "        train_raw_data[month].append(total)\n",
    "        \n",
    "        if (customer_id, label) not in not_bought_list:\n",
    "            if first_bought == None:\n",
    "                first_bought = idx\n",
    "            last_bought = idx\n",
    "            bought_count[0] += 1.\n",
    "            if idx >= 6:\n",
    "                bought_count[1] += 1.\n",
    "            if idx >= 9:\n",
    "                bought_count[2] += 1.\n",
    "            if total >= 300.:\n",
    "                bought_more_than_thres[0] += 1.\n",
    "                if idx >= 6:\n",
    "                    bought_more_than_thres[1] += 1.\n",
    "                if idx >= 9:\n",
    "                    bought_more_than_thres[2] += 1.\n",
    "    if first_bought == None:\n",
    "        first_bought = -1\n",
    "    if last_bought == None:\n",
    "        last_bought = -1\n",
    "    train_raw_data[\"customer_id\"].append(customer_id)\n",
    "    train_raw_data[\"thres_3\"].append(bought_more_than_thres[2] / bought_count[2] if bought_count[2] > 0 else 0.)\n",
    "    train_raw_data[\"thres_6\"].append(bought_more_than_thres[1] / bought_count[1] if bought_count[1] > 0 else 0.)\n",
    "    train_raw_data[\"thres_12\"].append(bought_more_than_thres[0] / bought_count[0] if bought_count[0] > 0 else 0.)\n",
    "    train_raw_data[\"last_bought\"].append(last_bought)\n",
    "    train_raw_data[\"first_bought\"].append(first_bought)\n",
    "    train_raw_data[\"label\"].append(1 if float(raw_data_[(raw_data_.customer_id == customer_id) & (raw_data_.year_month == \"2010-12\")][\"total\"]) >= 300. else 0)"
   ]
  },
  {
   "cell_type": "code",
   "execution_count": 16,
   "metadata": {},
   "outputs": [],
   "source": [
    "train_data = pd.DataFrame(train_raw_data)\n",
    "train_data.to_csv(os.path.join(\"/opt/ml/code/my_src/data\" , 'train_data_thres_rate_3_6_12.csv'), index=False)"
   ]
  },
  {
   "cell_type": "code",
   "execution_count": 35,
   "metadata": {},
   "outputs": [
    {
     "output_type": "stream",
     "name": "stderr",
     "text": [
      "100%|██████████| 5914/5914 [21:05<00:00,  4.67it/s]\n"
     ]
    }
   ],
   "source": [
    "test_year = 2011\n",
    "\n",
    "test_raw_data = {\"customer_id\": [], \n",
    "                  \"last_bought\": [], \n",
    "                  \"first_bought\": [],\n",
    "                  \"thres_3\": [],\n",
    "                  \"thres_6\": [],\n",
    "                  \"thres_12\": []}\n",
    "\n",
    "for month in month_sorted_list:      \n",
    "    test_raw_data[month] = []\n",
    "\n",
    "for customer_id in tqdm(customer_id_list):\n",
    "    bought_count = [0] * 3\n",
    "    bought_more_than_thres = [0] * 3\n",
    "    first_bought, last_bought = None, None\n",
    "    for idx, month in enumerate(month_sorted_list):\n",
    "        if month == '12':\n",
    "            label = str(test_year - 1)\n",
    "        else:\n",
    "            label = str(test_year)\n",
    "        label += \"-\" + month\n",
    "        \n",
    "        total = float(raw_data_[(raw_data_.customer_id == customer_id) & (raw_data_.year_month == label)][\"total\"])\n",
    "        test_raw_data[month].append(total)\n",
    "        \n",
    "        if (customer_id, label) not in not_bought_list:\n",
    "            if first_bought == None:\n",
    "                first_bought = idx\n",
    "            last_bought = idx\n",
    "            bought_count[0] += 1.\n",
    "            if idx >= 6:\n",
    "                bought_count[1] += 1.\n",
    "            if idx >= 9:\n",
    "                bought_count[2] += 1.\n",
    "            if total >= 300.:\n",
    "                bought_more_than_thres[0] += 1.\n",
    "                if idx >= 6:\n",
    "                    bought_more_than_thres[1] += 1.\n",
    "                if idx >= 9:\n",
    "                    bought_more_than_thres[2] += 1.\n",
    "    if first_bought == None:\n",
    "        first_bought = -1\n",
    "    if last_bought == None:\n",
    "        last_bought = -1\n",
    "    test_raw_data[\"customer_id\"].append(customer_id)\n",
    "    test_raw_data[\"thres_3\"].append(bought_more_than_thres[2] / bought_count[2] if bought_count[2] > 0 else 0.)\n",
    "    test_raw_data[\"thres_6\"].append(bought_more_than_thres[1] / bought_count[1] if bought_count[1] > 0 else 0.)\n",
    "    test_raw_data[\"thres_12\"].append(bought_more_than_thres[0] / bought_count[0] if bought_count[0] > 0 else 0.)\n",
    "    test_raw_data[\"last_bought\"].append(last_bought)\n",
    "    test_raw_data[\"first_bought\"].append(first_bought)\n",
    "    "
   ]
  },
  {
   "cell_type": "code",
   "execution_count": 21,
   "metadata": {},
   "outputs": [],
   "source": [
    "del test_raw_data[\"label\"]"
   ]
  },
  {
   "cell_type": "code",
   "execution_count": 36,
   "metadata": {},
   "outputs": [],
   "source": [
    "test_data = pd.DataFrame(test_raw_data)\n",
    "test_data.to_csv(os.path.join(\"/opt/ml/code/my_src/data\" , 'test_data_thres_rate_3_6_12.csv'), index=False)"
   ]
  },
  {
   "cell_type": "code",
   "execution_count": 23,
   "metadata": {},
   "outputs": [],
   "source": [
    "train_csv = pd.read_csv(\"/opt/ml/code/my_src/data/train_data_thres_rate_3_6_12.csv\")"
   ]
  },
  {
   "cell_type": "code",
   "execution_count": 25,
   "metadata": {},
   "outputs": [
    {
     "output_type": "execute_result",
     "data": {
      "text/plain": [
       "   customer_id  label  last_bought  first_bought   thres_3   thres_6  \\\n",
       "0        13085      0           10             0  0.000000  0.000000   \n",
       "1        13078      1           11             0  1.000000  1.000000   \n",
       "2        15362      0            9             0  1.000000  1.000000   \n",
       "3        18102      1           11             0  0.666667  0.833333   \n",
       "4        12682      1           11             0  1.000000  1.000000   \n",
       "5        18087      0           11             0  1.000000  1.000000   \n",
       "6        13635      0            9             0  1.000000  1.000000   \n",
       "7        14110      0            9             0  1.000000  1.000000   \n",
       "8        12636      0            0             0  0.000000  0.000000   \n",
       "9        17519      1            9             0  1.000000  1.000000   \n",
       "\n",
       "   thres_12          12          01         02          03          04  \\\n",
       "0  0.666667   1809.7200   1518.6600      0.000      0.0000      0.0000   \n",
       "1  1.000000   3759.1950   1412.3175   1452.066   2168.4795   1157.1780   \n",
       "2  1.000000    512.7375      0.0000      0.000      0.0000      0.0000   \n",
       "3  0.916667  67659.4710  63616.2450  36756.885  35004.9315  27384.3075   \n",
       "4  1.000000   1770.3675   1409.6775   2768.073   1137.5925   1425.0060   \n",
       "5  1.000000   1633.0710    502.8540    512.820    401.7750    517.9680   \n",
       "6  1.000000   1296.9825      0.0000      0.000      0.0000      0.0000   \n",
       "7  1.000000   1116.2250    502.3755      0.000   1030.1280   1594.3290   \n",
       "8  0.000000    232.6500      0.0000      0.000      0.0000      0.0000   \n",
       "9  1.000000    508.9260    498.9600    477.840    544.9785    531.8775   \n",
       "\n",
       "           05          06          07          08         09          10  \\\n",
       "0      0.0000      0.0000      0.0000      0.0000     0.0000  -1369.6980   \n",
       "1   1686.5805   2003.0175   1634.3580   2110.3500  1830.5925   2302.7895   \n",
       "2      0.0000      0.0000      0.0000      0.0000   498.8445      0.0000   \n",
       "3  21737.5125  25326.8730  78781.0815  76752.0435  -267.3000  48799.8060   \n",
       "4    979.2585   2070.7830    657.5910    756.8055  1429.0650    817.0800   \n",
       "5      0.0000      0.0000      0.0000   9466.5780   504.9000      0.0000   \n",
       "6      0.0000      0.0000      0.0000      0.0000  1800.3810      0.0000   \n",
       "7   2309.8350   1517.3565   1048.1790   1007.2590  1899.4305      0.0000   \n",
       "8      0.0000      0.0000      0.0000      0.0000     0.0000      0.0000   \n",
       "9    677.1600    540.0450    545.3745      0.0000   506.7480      0.0000   \n",
       "\n",
       "           11  \n",
       "0      0.0000  \n",
       "1   4779.3900  \n",
       "2      0.0000  \n",
       "3  36452.6415  \n",
       "4   2239.4955  \n",
       "5   4018.5090  \n",
       "6      0.0000  \n",
       "7      0.0000  \n",
       "8      0.0000  \n",
       "9      0.0000  "
      ],
      "text/html": "<div>\n<style scoped>\n    .dataframe tbody tr th:only-of-type {\n        vertical-align: middle;\n    }\n\n    .dataframe tbody tr th {\n        vertical-align: top;\n    }\n\n    .dataframe thead th {\n        text-align: right;\n    }\n</style>\n<table border=\"1\" class=\"dataframe\">\n  <thead>\n    <tr style=\"text-align: right;\">\n      <th></th>\n      <th>customer_id</th>\n      <th>label</th>\n      <th>last_bought</th>\n      <th>first_bought</th>\n      <th>thres_3</th>\n      <th>thres_6</th>\n      <th>thres_12</th>\n      <th>12</th>\n      <th>01</th>\n      <th>02</th>\n      <th>03</th>\n      <th>04</th>\n      <th>05</th>\n      <th>06</th>\n      <th>07</th>\n      <th>08</th>\n      <th>09</th>\n      <th>10</th>\n      <th>11</th>\n    </tr>\n  </thead>\n  <tbody>\n    <tr>\n      <th>0</th>\n      <td>13085</td>\n      <td>0</td>\n      <td>10</td>\n      <td>0</td>\n      <td>0.000000</td>\n      <td>0.000000</td>\n      <td>0.666667</td>\n      <td>1809.7200</td>\n      <td>1518.6600</td>\n      <td>0.000</td>\n      <td>0.0000</td>\n      <td>0.0000</td>\n      <td>0.0000</td>\n      <td>0.0000</td>\n      <td>0.0000</td>\n      <td>0.0000</td>\n      <td>0.0000</td>\n      <td>-1369.6980</td>\n      <td>0.0000</td>\n    </tr>\n    <tr>\n      <th>1</th>\n      <td>13078</td>\n      <td>1</td>\n      <td>11</td>\n      <td>0</td>\n      <td>1.000000</td>\n      <td>1.000000</td>\n      <td>1.000000</td>\n      <td>3759.1950</td>\n      <td>1412.3175</td>\n      <td>1452.066</td>\n      <td>2168.4795</td>\n      <td>1157.1780</td>\n      <td>1686.5805</td>\n      <td>2003.0175</td>\n      <td>1634.3580</td>\n      <td>2110.3500</td>\n      <td>1830.5925</td>\n      <td>2302.7895</td>\n      <td>4779.3900</td>\n    </tr>\n    <tr>\n      <th>2</th>\n      <td>15362</td>\n      <td>0</td>\n      <td>9</td>\n      <td>0</td>\n      <td>1.000000</td>\n      <td>1.000000</td>\n      <td>1.000000</td>\n      <td>512.7375</td>\n      <td>0.0000</td>\n      <td>0.000</td>\n      <td>0.0000</td>\n      <td>0.0000</td>\n      <td>0.0000</td>\n      <td>0.0000</td>\n      <td>0.0000</td>\n      <td>0.0000</td>\n      <td>498.8445</td>\n      <td>0.0000</td>\n      <td>0.0000</td>\n    </tr>\n    <tr>\n      <th>3</th>\n      <td>18102</td>\n      <td>1</td>\n      <td>11</td>\n      <td>0</td>\n      <td>0.666667</td>\n      <td>0.833333</td>\n      <td>0.916667</td>\n      <td>67659.4710</td>\n      <td>63616.2450</td>\n      <td>36756.885</td>\n      <td>35004.9315</td>\n      <td>27384.3075</td>\n      <td>21737.5125</td>\n      <td>25326.8730</td>\n      <td>78781.0815</td>\n      <td>76752.0435</td>\n      <td>-267.3000</td>\n      <td>48799.8060</td>\n      <td>36452.6415</td>\n    </tr>\n    <tr>\n      <th>4</th>\n      <td>12682</td>\n      <td>1</td>\n      <td>11</td>\n      <td>0</td>\n      <td>1.000000</td>\n      <td>1.000000</td>\n      <td>1.000000</td>\n      <td>1770.3675</td>\n      <td>1409.6775</td>\n      <td>2768.073</td>\n      <td>1137.5925</td>\n      <td>1425.0060</td>\n      <td>979.2585</td>\n      <td>2070.7830</td>\n      <td>657.5910</td>\n      <td>756.8055</td>\n      <td>1429.0650</td>\n      <td>817.0800</td>\n      <td>2239.4955</td>\n    </tr>\n    <tr>\n      <th>5</th>\n      <td>18087</td>\n      <td>0</td>\n      <td>11</td>\n      <td>0</td>\n      <td>1.000000</td>\n      <td>1.000000</td>\n      <td>1.000000</td>\n      <td>1633.0710</td>\n      <td>502.8540</td>\n      <td>512.820</td>\n      <td>401.7750</td>\n      <td>517.9680</td>\n      <td>0.0000</td>\n      <td>0.0000</td>\n      <td>0.0000</td>\n      <td>9466.5780</td>\n      <td>504.9000</td>\n      <td>0.0000</td>\n      <td>4018.5090</td>\n    </tr>\n    <tr>\n      <th>6</th>\n      <td>13635</td>\n      <td>0</td>\n      <td>9</td>\n      <td>0</td>\n      <td>1.000000</td>\n      <td>1.000000</td>\n      <td>1.000000</td>\n      <td>1296.9825</td>\n      <td>0.0000</td>\n      <td>0.000</td>\n      <td>0.0000</td>\n      <td>0.0000</td>\n      <td>0.0000</td>\n      <td>0.0000</td>\n      <td>0.0000</td>\n      <td>0.0000</td>\n      <td>1800.3810</td>\n      <td>0.0000</td>\n      <td>0.0000</td>\n    </tr>\n    <tr>\n      <th>7</th>\n      <td>14110</td>\n      <td>0</td>\n      <td>9</td>\n      <td>0</td>\n      <td>1.000000</td>\n      <td>1.000000</td>\n      <td>1.000000</td>\n      <td>1116.2250</td>\n      <td>502.3755</td>\n      <td>0.000</td>\n      <td>1030.1280</td>\n      <td>1594.3290</td>\n      <td>2309.8350</td>\n      <td>1517.3565</td>\n      <td>1048.1790</td>\n      <td>1007.2590</td>\n      <td>1899.4305</td>\n      <td>0.0000</td>\n      <td>0.0000</td>\n    </tr>\n    <tr>\n      <th>8</th>\n      <td>12636</td>\n      <td>0</td>\n      <td>0</td>\n      <td>0</td>\n      <td>0.000000</td>\n      <td>0.000000</td>\n      <td>0.000000</td>\n      <td>232.6500</td>\n      <td>0.0000</td>\n      <td>0.000</td>\n      <td>0.0000</td>\n      <td>0.0000</td>\n      <td>0.0000</td>\n      <td>0.0000</td>\n      <td>0.0000</td>\n      <td>0.0000</td>\n      <td>0.0000</td>\n      <td>0.0000</td>\n      <td>0.0000</td>\n    </tr>\n    <tr>\n      <th>9</th>\n      <td>17519</td>\n      <td>1</td>\n      <td>9</td>\n      <td>0</td>\n      <td>1.000000</td>\n      <td>1.000000</td>\n      <td>1.000000</td>\n      <td>508.9260</td>\n      <td>498.9600</td>\n      <td>477.840</td>\n      <td>544.9785</td>\n      <td>531.8775</td>\n      <td>677.1600</td>\n      <td>540.0450</td>\n      <td>545.3745</td>\n      <td>0.0000</td>\n      <td>506.7480</td>\n      <td>0.0000</td>\n      <td>0.0000</td>\n    </tr>\n  </tbody>\n</table>\n</div>"
     },
     "metadata": {},
     "execution_count": 25
    }
   ],
   "source": [
    "train_csv.head(10)"
   ]
  },
  {
   "cell_type": "code",
   "execution_count": 37,
   "metadata": {},
   "outputs": [],
   "source": [
    "test_csv = pd.read_csv(\"/opt/ml/code/my_src/data/test_data_thres_rate_3_6_12.csv\")"
   ]
  },
  {
   "cell_type": "code",
   "execution_count": 38,
   "metadata": {},
   "outputs": [
    {
     "output_type": "execute_result",
     "data": {
      "text/plain": [
       "   customer_id  last_bought  first_bought  thres_3  thres_6  thres_12  \\\n",
       "0        13085            7             2      0.0      0.0  0.333333   \n",
       "1        13078           11             0      1.0      1.0  1.000000   \n",
       "2        15362           -1            -1      0.0      0.0  0.000000   \n",
       "3        18102           11             0      1.0      1.0  1.000000   \n",
       "4        12682           11             0      1.0      1.0  1.000000   \n",
       "5        18087            9             2      1.0      0.5  0.666667   \n",
       "6        13635           10            10      1.0      1.0  1.000000   \n",
       "7        14110           11             3      1.0      1.0  0.888889   \n",
       "8        12636           -1            -1      0.0      0.0  0.000000   \n",
       "9        17519           11             0      1.0      1.0  1.000000   \n",
       "\n",
       "           12         01         02          03         04          05  \\\n",
       "0      0.0000     0.0000    458.865      0.0000  -237.1050      0.0000   \n",
       "1   1440.8790  1230.8670    553.443   2028.7080  1165.0320    748.8525   \n",
       "2      0.0000     0.0000      0.000      0.0000     0.0000      0.0000   \n",
       "3  45927.1065     0.0000  17383.542  11400.3780  1713.9375  29973.4710   \n",
       "4   1774.2285  1377.9315   1652.871    791.0100   966.1575   2145.3300   \n",
       "5      0.0000     0.0000   5217.498      0.0000     0.0000      0.0000   \n",
       "6      0.0000     0.0000      0.000      0.0000     0.0000      0.0000   \n",
       "7      0.0000     0.0000      0.000   1492.0290   -22.2750   1315.4790   \n",
       "8      0.0000     0.0000      0.000      0.0000     0.0000      0.0000   \n",
       "9    545.0775     0.0000      0.000    517.1925     0.0000    506.3025   \n",
       "\n",
       "           06         07        08          09          10         11  \n",
       "0      0.0000    227.667     0.000      0.0000      0.0000      0.000  \n",
       "1   1281.0930    925.947  1799.919   2467.5750   2317.8870   3190.836  \n",
       "2      0.0000      0.000     0.000      0.0000      0.0000      0.000  \n",
       "3  69233.0760  32817.114  1626.768  81876.5970  86924.0955  25296.282  \n",
       "4   1295.3985   1688.709  1871.232    955.8285    703.8570   3988.710  \n",
       "5      0.0000   -403.920     0.000   1407.1200      0.0000      0.000  \n",
       "6      0.0000      0.000     0.000      0.0000   1767.1995      0.000  \n",
       "7    626.5380    523.710  1420.617   1494.8835   1361.3490    605.616  \n",
       "8      0.0000      0.000     0.000      0.0000      0.0000      0.000  \n",
       "9    330.8250    547.635     0.000      0.0000      0.0000    587.433  "
      ],
      "text/html": "<div>\n<style scoped>\n    .dataframe tbody tr th:only-of-type {\n        vertical-align: middle;\n    }\n\n    .dataframe tbody tr th {\n        vertical-align: top;\n    }\n\n    .dataframe thead th {\n        text-align: right;\n    }\n</style>\n<table border=\"1\" class=\"dataframe\">\n  <thead>\n    <tr style=\"text-align: right;\">\n      <th></th>\n      <th>customer_id</th>\n      <th>last_bought</th>\n      <th>first_bought</th>\n      <th>thres_3</th>\n      <th>thres_6</th>\n      <th>thres_12</th>\n      <th>12</th>\n      <th>01</th>\n      <th>02</th>\n      <th>03</th>\n      <th>04</th>\n      <th>05</th>\n      <th>06</th>\n      <th>07</th>\n      <th>08</th>\n      <th>09</th>\n      <th>10</th>\n      <th>11</th>\n    </tr>\n  </thead>\n  <tbody>\n    <tr>\n      <th>0</th>\n      <td>13085</td>\n      <td>7</td>\n      <td>2</td>\n      <td>0.0</td>\n      <td>0.0</td>\n      <td>0.333333</td>\n      <td>0.0000</td>\n      <td>0.0000</td>\n      <td>458.865</td>\n      <td>0.0000</td>\n      <td>-237.1050</td>\n      <td>0.0000</td>\n      <td>0.0000</td>\n      <td>227.667</td>\n      <td>0.000</td>\n      <td>0.0000</td>\n      <td>0.0000</td>\n      <td>0.000</td>\n    </tr>\n    <tr>\n      <th>1</th>\n      <td>13078</td>\n      <td>11</td>\n      <td>0</td>\n      <td>1.0</td>\n      <td>1.0</td>\n      <td>1.000000</td>\n      <td>1440.8790</td>\n      <td>1230.8670</td>\n      <td>553.443</td>\n      <td>2028.7080</td>\n      <td>1165.0320</td>\n      <td>748.8525</td>\n      <td>1281.0930</td>\n      <td>925.947</td>\n      <td>1799.919</td>\n      <td>2467.5750</td>\n      <td>2317.8870</td>\n      <td>3190.836</td>\n    </tr>\n    <tr>\n      <th>2</th>\n      <td>15362</td>\n      <td>-1</td>\n      <td>-1</td>\n      <td>0.0</td>\n      <td>0.0</td>\n      <td>0.000000</td>\n      <td>0.0000</td>\n      <td>0.0000</td>\n      <td>0.000</td>\n      <td>0.0000</td>\n      <td>0.0000</td>\n      <td>0.0000</td>\n      <td>0.0000</td>\n      <td>0.000</td>\n      <td>0.000</td>\n      <td>0.0000</td>\n      <td>0.0000</td>\n      <td>0.000</td>\n    </tr>\n    <tr>\n      <th>3</th>\n      <td>18102</td>\n      <td>11</td>\n      <td>0</td>\n      <td>1.0</td>\n      <td>1.0</td>\n      <td>1.000000</td>\n      <td>45927.1065</td>\n      <td>0.0000</td>\n      <td>17383.542</td>\n      <td>11400.3780</td>\n      <td>1713.9375</td>\n      <td>29973.4710</td>\n      <td>69233.0760</td>\n      <td>32817.114</td>\n      <td>1626.768</td>\n      <td>81876.5970</td>\n      <td>86924.0955</td>\n      <td>25296.282</td>\n    </tr>\n    <tr>\n      <th>4</th>\n      <td>12682</td>\n      <td>11</td>\n      <td>0</td>\n      <td>1.0</td>\n      <td>1.0</td>\n      <td>1.000000</td>\n      <td>1774.2285</td>\n      <td>1377.9315</td>\n      <td>1652.871</td>\n      <td>791.0100</td>\n      <td>966.1575</td>\n      <td>2145.3300</td>\n      <td>1295.3985</td>\n      <td>1688.709</td>\n      <td>1871.232</td>\n      <td>955.8285</td>\n      <td>703.8570</td>\n      <td>3988.710</td>\n    </tr>\n    <tr>\n      <th>5</th>\n      <td>18087</td>\n      <td>9</td>\n      <td>2</td>\n      <td>1.0</td>\n      <td>0.5</td>\n      <td>0.666667</td>\n      <td>0.0000</td>\n      <td>0.0000</td>\n      <td>5217.498</td>\n      <td>0.0000</td>\n      <td>0.0000</td>\n      <td>0.0000</td>\n      <td>0.0000</td>\n      <td>-403.920</td>\n      <td>0.000</td>\n      <td>1407.1200</td>\n      <td>0.0000</td>\n      <td>0.000</td>\n    </tr>\n    <tr>\n      <th>6</th>\n      <td>13635</td>\n      <td>10</td>\n      <td>10</td>\n      <td>1.0</td>\n      <td>1.0</td>\n      <td>1.000000</td>\n      <td>0.0000</td>\n      <td>0.0000</td>\n      <td>0.000</td>\n      <td>0.0000</td>\n      <td>0.0000</td>\n      <td>0.0000</td>\n      <td>0.0000</td>\n      <td>0.000</td>\n      <td>0.000</td>\n      <td>0.0000</td>\n      <td>1767.1995</td>\n      <td>0.000</td>\n    </tr>\n    <tr>\n      <th>7</th>\n      <td>14110</td>\n      <td>11</td>\n      <td>3</td>\n      <td>1.0</td>\n      <td>1.0</td>\n      <td>0.888889</td>\n      <td>0.0000</td>\n      <td>0.0000</td>\n      <td>0.000</td>\n      <td>1492.0290</td>\n      <td>-22.2750</td>\n      <td>1315.4790</td>\n      <td>626.5380</td>\n      <td>523.710</td>\n      <td>1420.617</td>\n      <td>1494.8835</td>\n      <td>1361.3490</td>\n      <td>605.616</td>\n    </tr>\n    <tr>\n      <th>8</th>\n      <td>12636</td>\n      <td>-1</td>\n      <td>-1</td>\n      <td>0.0</td>\n      <td>0.0</td>\n      <td>0.000000</td>\n      <td>0.0000</td>\n      <td>0.0000</td>\n      <td>0.000</td>\n      <td>0.0000</td>\n      <td>0.0000</td>\n      <td>0.0000</td>\n      <td>0.0000</td>\n      <td>0.000</td>\n      <td>0.000</td>\n      <td>0.0000</td>\n      <td>0.0000</td>\n      <td>0.000</td>\n    </tr>\n    <tr>\n      <th>9</th>\n      <td>17519</td>\n      <td>11</td>\n      <td>0</td>\n      <td>1.0</td>\n      <td>1.0</td>\n      <td>1.000000</td>\n      <td>545.0775</td>\n      <td>0.0000</td>\n      <td>0.000</td>\n      <td>517.1925</td>\n      <td>0.0000</td>\n      <td>506.3025</td>\n      <td>330.8250</td>\n      <td>547.635</td>\n      <td>0.000</td>\n      <td>0.0000</td>\n      <td>0.0000</td>\n      <td>587.433</td>\n    </tr>\n  </tbody>\n</table>\n</div>"
     },
     "metadata": {},
     "execution_count": 38
    }
   ],
   "source": [
    "test_csv.head(10)"
   ]
  },
  {
   "cell_type": "code",
   "execution_count": null,
   "metadata": {},
   "outputs": [],
   "source": [
    "#0.8594\n",
    "#recent/ 소비자별 3 개월, 6 개월 별로 300 달러는 넘는 비율 1 년단위 최근에 산날 min max /product id의 라벨링코드 "
   ]
  }
 ]
}